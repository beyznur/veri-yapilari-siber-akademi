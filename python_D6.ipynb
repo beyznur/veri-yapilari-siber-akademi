{
  "nbformat": 4,
  "nbformat_minor": 0,
  "metadata": {
    "colab": {
      "provenance": []
    },
    "kernelspec": {
      "name": "python3",
      "display_name": "Python 3"
    },
    "language_info": {
      "name": "python"
    }
  },
  "cells": [
    {
      "cell_type": "code",
      "execution_count": 1,
      "metadata": {
        "colab": {
          "base_uri": "https://localhost:8080/"
        },
        "id": "JUiHWDhog2q2",
        "outputId": "3c2b30ab-d22f-4c55-a427-256b757e287a"
      },
      "outputs": [
        {
          "output_type": "stream",
          "name": "stdout",
          "text": [
            "Merhaba İGU - İSTKA, Ders 5\n"
          ]
        }
      ],
      "source": [
        "print(\"Merhaba İGU - İSTKA, Ders 6\")"
      ]
    },
    {
      "cell_type": "code",
      "source": [
        "import sys #kutuphane tanımlar\n",
        "print(sys.version)"
      ],
      "metadata": {
        "colab": {
          "base_uri": "https://localhost:8080/"
        },
        "id": "lt1K1VRog89J",
        "outputId": "40a8c465-c43b-4987-aba2-1c8ed6351f6c"
      },
      "execution_count": 2,
      "outputs": [
        {
          "output_type": "stream",
          "name": "stdout",
          "text": [
            "3.10.12 (main, Jul 29 2024, 16:56:48) [GCC 11.4.0]\n"
          ]
        }
      ]
    },
    {
      "cell_type": "code",
      "source": [
        "from google.colab import drive # goole colab - drive baglantısı\n",
        "drive.mount(\"/content/drive\")"
      ],
      "metadata": {
        "colab": {
          "base_uri": "https://localhost:8080/"
        },
        "id": "8U03gqbbg8_h",
        "outputId": "c56dc0fd-009e-4fe6-edd8-1902c3bc3f98"
      },
      "execution_count": 3,
      "outputs": [
        {
          "output_type": "stream",
          "name": "stdout",
          "text": [
            "Mounted at /content/drive\n"
          ]
        }
      ]
    },
    {
      "cell_type": "code",
      "source": [
        "import os\n",
        "os.chdir('/content/drive/My Drive/VERIYAPILARI_ISTKA') # drive icindeki klasore erisim linki isleme alındır\n",
        "\n",
        "!pwd # kodun cıktısını dosya yolu olarak veren kod blogudu"
      ],
      "metadata": {
        "colab": {
          "base_uri": "https://localhost:8080/"
        },
        "id": "NzdEKN0pg9Bq",
        "outputId": "07d1b8e6-2264-466c-ea1b-00ea42176c5a"
      },
      "execution_count": 4,
      "outputs": [
        {
          "output_type": "stream",
          "name": "stdout",
          "text": [
            "/content/drive/My Drive/VERIYAPILARI_ISTKA\n"
          ]
        }
      ]
    },
    {
      "cell_type": "code",
      "source": [
        "# Liste tanımlama\n",
        "dizi = [2,3,5,6,8,11,14]\n",
        "\n",
        "#Çift sayıları tutmak için bos liste\n",
        "numaralistesi = []\n",
        "\n",
        "#for ve if ile çift sayıları bulma\n",
        "for i in dizi:\n",
        "  if i %2 == 0:\n",
        "    numaralistesi.append(i)\n",
        "\n",
        "print(f\"Listede bulunan çift sayılar {numaralistesi}\")\n",
        "print(len(numaralistesi), \"adet çift sayi bulunmaktadır.\")\n"
      ],
      "metadata": {
        "colab": {
          "base_uri": "https://localhost:8080/"
        },
        "id": "neMnIFAthJZx",
        "outputId": "52945253-5404-4bf5-c45a-dc7fc444b156"
      },
      "execution_count": 17,
      "outputs": [
        {
          "output_type": "stream",
          "name": "stdout",
          "text": [
            "Listede bulunan çift sayılar [2, 6, 8, 14]\n",
            "4 adet çift sayi bulunmaktadır.\n"
          ]
        }
      ]
    },
    {
      "cell_type": "code",
      "source": [
        "dizi = [\"elma\", \"muz\",\"çilek\",\"su\",\"çikolata\"] # Malzeme listesi\n",
        "\n",
        "aranacak_urun = \"muz\" # Aranacak ürün\n",
        "\n",
        "if aranacak_urun in dizi:\n",
        "  print(aranacak_urun, \"liste içerisinde mevcut\")\n",
        "\n",
        "else:\n",
        "  print(aranacak_urun, \"liste içerisinde mevcut değil\")\n"
      ],
      "metadata": {
        "colab": {
          "base_uri": "https://localhost:8080/"
        },
        "id": "bPB5MF42hJcB",
        "outputId": "a3729ff2-e74a-4c6a-b2e9-1bd1a7288557"
      },
      "execution_count": 15,
      "outputs": [
        {
          "output_type": "stream",
          "name": "stdout",
          "text": [
            "muz liste içerisinde mevcut\n"
          ]
        }
      ]
    },
    {
      "cell_type": "code",
      "source": [
        "dizi = [\"elma\", \"muz\", \"çilek\", \"su\",\"çikolata\"] # Malzeme listesi\n",
        "\n",
        "aranacak_urun = input(\"Aranacak ürün nedir? \")  # Aranacak ürün\n",
        "\n",
        "if aranacak_urun.lower() in dizi: # lower() kucuk harf yapılması için kullandıldı\n",
        "  print(aranacak_urun,\"liste içerisinde mevcuttur\")\n",
        "\n",
        "else:\n",
        "  print(aranacak_urun,\"liste içerisinde mevcut değildir\")"
      ],
      "metadata": {
        "colab": {
          "base_uri": "https://localhost:8080/"
        },
        "id": "wDH-dYi3mBnI",
        "outputId": "1cded833-41cf-4e09-9a64-ec2c741865a1"
      },
      "execution_count": 18,
      "outputs": [
        {
          "output_type": "stream",
          "name": "stdout",
          "text": [
            "Aranacak ürün nedir? Elma\n",
            "Elma liste içerisinde mevcuttur\n"
          ]
        }
      ]
    },
    {
      "cell_type": "code",
      "source": [
        "# Matematiksel Toplama İşlemi\n",
        "def toplama(a,b):\n",
        "  return a+b\n",
        "\n",
        "#Fonkisyonu çağırarak kullanma\n",
        "sonuc = toplama(5,3)\n",
        "\n",
        "print(f\"Toplama sonucu: {sonuc}\")\n",
        "print(\"Toplama sonucu:\",sonuc)\n",
        "\n"
      ],
      "metadata": {
        "colab": {
          "base_uri": "https://localhost:8080/"
        },
        "id": "dQy502ixmBpf",
        "outputId": "d1952185-b247-4142-e168-819e96d13c6d"
      },
      "execution_count": 20,
      "outputs": [
        {
          "output_type": "stream",
          "name": "stdout",
          "text": [
            "Toplama sonucu: 8\n",
            "Toplama sonucu: 8\n"
          ]
        }
      ]
    },
    {
      "cell_type": "code",
      "source": [
        "#Liste elemanlarının toplamı\n",
        "sayilar = [1,2,3,4,5]\n",
        "\n",
        "def liste_toplama(liste):\n",
        "  toplam = 0\n",
        "  for eleman in liste:\n",
        "    toplam+=eleman\n",
        "  return toplam\n",
        "\n",
        "#Fonksiyonu çağırarak kullanma\n",
        "sonuc = liste_toplama(sayilar)\n",
        "\n",
        "print(\"Toplama sonucu\", sonuc)"
      ],
      "metadata": {
        "colab": {
          "base_uri": "https://localhost:8080/"
        },
        "id": "pLR_ATshmBsH",
        "outputId": "52ad091a-5011-4594-c58a-cf45b93e3c9b"
      },
      "execution_count": 22,
      "outputs": [
        {
          "output_type": "stream",
          "name": "stdout",
          "text": [
            "Toplama sonucu 15\n"
          ]
        }
      ]
    },
    {
      "cell_type": "code",
      "source": [
        "#Fibonacci Dizisi Hesaplama\n",
        "\n",
        "def fibonacci(n):\n",
        "  if n <= 0:\n",
        "    return \"Gecersiz giris\"\n",
        "  elif n == 1:\n",
        "    return 0\n",
        "  elif n == 2:\n",
        "    return 1\n",
        "  else:\n",
        "    return fibonacci(n-1) + fibonacci(n-2)\n",
        "\n",
        "# Fonksiyonu çağırarak kullanma\n",
        "n = 7\n",
        "sonuc = fibonacci(n)\n",
        "print(f\"Fibonacci dizisinin {n}. elemanı: {sonuc}\")\n"
      ],
      "metadata": {
        "colab": {
          "base_uri": "https://localhost:8080/"
        },
        "id": "k0nOinjZoaw_",
        "outputId": "ce32110d-22b3-4538-9eeb-191ba8b59c20"
      },
      "execution_count": 25,
      "outputs": [
        {
          "output_type": "stream",
          "name": "stdout",
          "text": [
            "Fibonacci dizisinin 7. elemanı: 8\n"
          ]
        }
      ]
    },
    {
      "cell_type": "code",
      "source": [
        "# EBOB ve EKOK Bulma\n",
        "\n",
        "def ebob(a,b):\n",
        "  while b:\n",
        "    a,b = b,a % b\n",
        "  return a\n",
        "\n",
        "def ekok(a,b):\n",
        "  return a * b  // ebob (a,b)\n",
        "\n",
        "#Kullanıcıdan iki sayı al\n",
        "bir_sayi= int(input(\"Birinci sayıyı girin: \"))\n",
        "iki_sayi = int(input(\"İkinci sayıyı girin \"))\n",
        "\n",
        "# EBOB ve EKOK hesaplama\n",
        "ebob_sonuc = ebob(bir_sayi,iki_sayi)\n",
        "ekok_sonuc =ekok(bir_sayi,iki_sayi)\n",
        "\n",
        "#Sonucları göster\n",
        "print(\"Sayılarının EBOB'u: \",ebob_sonuc)\n",
        "print(\"Sayılarının EKOK'u: \",ekok_sonuc)\n",
        "\n"
      ],
      "metadata": {
        "colab": {
          "base_uri": "https://localhost:8080/"
        },
        "id": "ExoRZzyNp_l2",
        "outputId": "33a8be4e-3f1c-4f14-ddb0-a7058aabbbc8"
      },
      "execution_count": 27,
      "outputs": [
        {
          "output_type": "stream",
          "name": "stdout",
          "text": [
            "Birinci sayıyı girin: 50\n",
            "İkinci sayıyı girin 10\n",
            "Sayılarının EBOB'u:  10\n",
            "Sayılarının EKOK'u:  50\n"
          ]
        }
      ]
    },
    {
      "cell_type": "code",
      "source": [
        "# Asal sayı kontrolü ve Asal sayılar listesi\n",
        "\n",
        "def asal_mi(sayi):\n",
        "  if sayi < 2:\n",
        "    return False\n",
        "\n",
        "  for i in range(2,int(sayi ** 0.5)+1):\n",
        "    if sayi % i == 0:\n",
        "      return False\n",
        "  return True\n",
        "\n",
        "def asal_sayilar(aralik):\n",
        "  asal_listesi = []\n",
        "  for sayi in range(2,aralik+1):\n",
        "    if asal_mi(sayi):\n",
        "      asal_listesi.append(sayi)\n",
        "  return asal_listesi\n",
        "\n",
        "\n",
        "# Fonkisyonları çağırarak kullanma\n",
        "aralik = 50\n",
        "sonuc = asal_sayilar(aralik)\n",
        "print(\"1 ile\",aralik,\"asaindaki asal sayılar\",sonuc)"
      ],
      "metadata": {
        "colab": {
          "base_uri": "https://localhost:8080/"
        },
        "id": "cGVwTrsSp_o9",
        "outputId": "c92af52f-a284-4ccb-97a5-897fb2dd41cb"
      },
      "execution_count": 30,
      "outputs": [
        {
          "output_type": "stream",
          "name": "stdout",
          "text": [
            "1 ile 50 asaindaki asal sayılar [2, 3, 5, 7, 11, 13, 17, 19, 23, 29, 31, 37, 41, 43, 47]\n"
          ]
        }
      ]
    },
    {
      "cell_type": "code",
      "source": [
        "buzdolabi = { # Buzdolabındaki meyveler ve miktarlarını tutan sözlük\n",
        "    \"elma\":5,    # 5 kilo elma\n",
        "    \"muz\":3,     # 3 kilo muz\n",
        "    \"kiraz\":2,   # 2 kilo kiraz\n",
        "    \"hurma\":4    # 4 kilo hurma\n",
        "}\n",
        "\n",
        "\n",
        "def buzdolabi_durumu_yazdir(): #mevcut buzdolabı durumunu yazdıran fonkisyon\n",
        "  print(\"Buzdolabındaki meyve miktaları: \")\n",
        "  for meyve,miktar in buzdolabi.items():\n",
        "    print(f\"{meyve}: {miktar} kilo\")\n",
        "  print(\"\\n\")\n",
        "\n",
        "def meyve_tuket(meyve,miktar): # meyveden belirtilen miktarı düşen fonkisyon\n",
        "  if meyve in buzdolabi:\n",
        "\n",
        "    if buzdolabi[meyve] >=miktar:\n",
        "      buzdolabi[meyve] -=miktar\n",
        "      print(f\"{miktar} kilo {meyve} tüketildi\")\n",
        "\n",
        "      if buzdolabi[meyve] == 0:\n",
        "        print(f\"{meyve} kalmadı. {meyve} almalısın\")\n",
        "        yeni_miktar = float(intput(f\"Kaç kilo {meyve} almak istersiniz? \"))\n",
        "        buzdolabi[meyve] = yeni_miktar\n",
        "        print(f\"{meyve} buzdolabına {yeni_miktar} kilo olarak eklendi\")\n",
        "\n",
        "    else:\n",
        "      print(f\"Buzdolabında yeterli {meyve} yok. Mevcut miktar: {buzdolabi[meyve]} kilo\")\n",
        "\n",
        "  else:\n",
        "    print(f\"Buzdolabında {meyve} bulunmuyor\")\n",
        "\n",
        "print (\"Buzdolabı Uygulaması\")\n",
        "buzdolabi_durumu_yazdir()\n",
        "\n",
        "while True: #Ana döngü tanımlaması\n",
        "  #Kullanıcıdan meyve miktar bilgisi alma\n",
        "  meyve = input(\"Hangi meyveyi tüketmek istersiniz? (Çıkmak için 'exit' yazın): \" ).lower()\n",
        "\n",
        "  if meyve == 'exit':\n",
        "    print(\"Uygulama sonlandırılıyor.\")\n",
        "    break\n",
        "\n",
        "  miktar = float(input(f\"Kaç kilo {meyve} tüketmek istersiniz? \"))\n",
        "\n",
        "  meyve_tuket(meyve,miktar) #meyve tuketme islemi\n",
        "\n",
        "  buzdolabi_durumu_yazdir() #guncellenmis buzdolabı durumunu yazdırma\n",
        "\n",
        "\n",
        "\n",
        "\n",
        "\n"
      ],
      "metadata": {
        "colab": {
          "base_uri": "https://localhost:8080/"
        },
        "id": "YTkW-WfCyen6",
        "outputId": "329709c6-dd61-4a02-b145-0bef6ca3176f"
      },
      "execution_count": 32,
      "outputs": [
        {
          "output_type": "stream",
          "name": "stdout",
          "text": [
            "Buzdolabı Uygulaması\n",
            "Buzdolabındaki meyve miktaları: \n",
            "elma: 5 kilo\n",
            "muz: 3 kilo\n",
            "kiraz: 2 kilo\n",
            "hurma: 4 kilo\n",
            "\n",
            "\n",
            "Hangi meyveyi tüketmek istersiniz? (Çıkmak için 'exit' yazın): elma\n",
            "KAç kilo elma tüketmek istersiniz? 2\n",
            "2.0 kilo elma tüketildi\n",
            "Buzdolabındaki meyve miktaları: \n",
            "elma: 3.0 kilo\n",
            "muz: 3 kilo\n",
            "kiraz: 2 kilo\n",
            "hurma: 4 kilo\n",
            "\n",
            "\n",
            "Hangi meyveyi tüketmek istersiniz? (Çıkmak için 'exit' yazın): exit\n",
            "Uygulama sonlandırılıyor.\n"
          ]
        }
      ]
    },
    {
      "cell_type": "code",
      "source": [
        "# Diyet listesindeki besinler ve kalorilerini tutan sözlük (Adet başına kalori)\n",
        "diyet_listesi = {\n",
        "    \"elma\": {\"miktar\": 5, \"kalori\": 52},    # 1 adet elma: 52 kalori\n",
        "    \"muz\": {\"miktar\": 3, \"kalori\": 89},     # 1 adet muz: 89 kalori\n",
        "    \"kiraz\": {\"miktar\": 2, \"kalori\": 50},   # 1 adet kiraz: 50 kalori\n",
        "    \"hurma\": {\"miktar\": 4, \"kalori\": 282}   # 1 adet hurma: 282 kalori\n",
        "}\n",
        "\n",
        "# Mevcut diyet listesini yazdıran fonksiyon\n",
        "def diyet_listesi_yazdir():\n",
        "    print(\"Diyet listesindeki besin miktarları ve kalorileri:\")\n",
        "    for besin, bilgi in diyet_listesi.items():\n",
        "        print(f\"{besin}: {bilgi['miktar']} Adet, Toplam Kalori: {bilgi['miktar'] * bilgi['kalori']} kalori\")\n",
        "    print(\"\\n\")\n",
        "\n",
        "# Besinden belirtilen miktarı düşen ve kalori hesaplayan fonksiyon\n",
        "def besin_tuket(besin, miktar):\n",
        "    if besin in diyet_listesi:\n",
        "        if diyet_listesi[besin][\"miktar\"] >= miktar:\n",
        "            diyet_listesi[besin][\"miktar\"] -= miktar\n",
        "            tuketilen_kalori = miktar * diyet_listesi[besin][\"kalori\"]\n",
        "            print(f\"{miktar} kilo {besin} tüketildi. Alınan kalori: {tuketilen_kalori} kalori.\")\n",
        "            if diyet_listesi[besin][\"miktar\"] == 0:\n",
        "                print(f\"{besin} kalmadı. {besin} almalısın!\")\n",
        "                yeni_miktar = float(input(f\"Kaç kilo {besin} almak istersiniz?: \"))\n",
        "                diyet_listesi[besin][\"miktar\"] = yeni_miktar\n",
        "                print(f\"{besin} diyet listesine {yeni_miktar} kilo olarak eklendi.\")\n",
        "        else:\n",
        "            print(f\"Diyet listesinde yeterli {besin} yok. Mevcut miktar: {diyet_listesi[besin]['miktar']} kilo.\")\n",
        "    else:\n",
        "        print(f\"Diyet listesinde {besin} bulunmuyor.\")\n",
        "\n",
        "print(\"Diyet Uygulaması\") # Uygulama başlangıcı\n",
        "diyet_listesi_yazdir()\n",
        "\n",
        "while True:     # Kullanıcıdan besin ve miktar bilgisi alma\n",
        "\n",
        "    besin = input(\"Hangi besini tüketmek istersiniz? (Çıkmak için 'exit' yazın): \").lower()\n",
        "\n",
        "    if besin == 'exit':\n",
        "        print(\"Uygulama sonlandırılıyor.\")\n",
        "        break\n",
        "\n",
        "    miktar = float(input(f\"Kaç kilo {besin} tüketmek istersiniz?: \"))\n",
        "\n",
        "    besin_tuket(besin, miktar)     # Besin tüketme işlemi\n",
        "\n",
        "    diyet_listesi_yazdir()     # Güncellenmiş diyet listesini yazdırma"
      ],
      "metadata": {
        "colab": {
          "base_uri": "https://localhost:8080/"
        },
        "id": "5zbbZVW44Kqn",
        "outputId": "f98a33ef-902f-41ca-ba81-d4b6e54539a2"
      },
      "execution_count": 33,
      "outputs": [
        {
          "output_type": "stream",
          "name": "stdout",
          "text": [
            "Diyet Uygulaması\n",
            "Diyet listesindeki besin miktarları ve kalorileri:\n",
            "elma: 5 Adet, Toplam Kalori: 260 kalori\n",
            "muz: 3 Adet, Toplam Kalori: 267 kalori\n",
            "kiraz: 2 Adet, Toplam Kalori: 100 kalori\n",
            "hurma: 4 Adet, Toplam Kalori: 1128 kalori\n",
            "\n",
            "\n",
            "Hangi besini tüketmek istersiniz? (Çıkmak için 'exit' yazın): kiraz\n",
            "Kaç kilo kiraz tüketmek istersiniz?: 1\n",
            "1.0 kilo kiraz tüketildi. Alınan kalori: 50.0 kalori.\n",
            "Diyet listesindeki besin miktarları ve kalorileri:\n",
            "elma: 5 Adet, Toplam Kalori: 260 kalori\n",
            "muz: 3 Adet, Toplam Kalori: 267 kalori\n",
            "kiraz: 1.0 Adet, Toplam Kalori: 50.0 kalori\n",
            "hurma: 4 Adet, Toplam Kalori: 1128 kalori\n",
            "\n",
            "\n",
            "Hangi besini tüketmek istersiniz? (Çıkmak için 'exit' yazın): exit\n",
            "Uygulama sonlandırılıyor.\n"
          ]
        }
      ]
    }
  ]
}