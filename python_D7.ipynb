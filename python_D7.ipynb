{
  "nbformat": 4,
  "nbformat_minor": 0,
  "metadata": {
    "colab": {
      "provenance": []
    },
    "kernelspec": {
      "name": "python3",
      "display_name": "Python 3"
    },
    "language_info": {
      "name": "python"
    }
  },
  "cells": [
    {
      "cell_type": "code",
      "execution_count": 45,
      "metadata": {
        "colab": {
          "base_uri": "https://localhost:8080/"
        },
        "id": "93RVgcqwp_U8",
        "outputId": "ba81d813-e4e2-41b8-e0a8-acd38248860d"
      },
      "outputs": [
        {
          "output_type": "stream",
          "name": "stdout",
          "text": [
            "Merhaba İGU - İSTKA, Ders 7\n"
          ]
        }
      ],
      "source": [
        "print(\"Merhaba İGU - İSTKA, Ders 7\")"
      ]
    },
    {
      "cell_type": "code",
      "source": [
        "import sys #kutuphane tanımlar\n",
        "print(sys.version)"
      ],
      "metadata": {
        "colab": {
          "base_uri": "https://localhost:8080/"
        },
        "id": "qDmtyqaWBXZ7",
        "outputId": "121e0dd7-2e96-4904-93f9-a5d41b48b9b1"
      },
      "execution_count": 46,
      "outputs": [
        {
          "output_type": "stream",
          "name": "stdout",
          "text": [
            "3.10.12 (main, Jul 29 2024, 16:56:48) [GCC 11.4.0]\n"
          ]
        }
      ]
    },
    {
      "cell_type": "code",
      "source": [
        "from google.colab import drive # goole colab - drive baglantısı\n",
        "drive.mount(\"/content/drive\")"
      ],
      "metadata": {
        "colab": {
          "base_uri": "https://localhost:8080/"
        },
        "id": "v64vqKfzqBT7",
        "outputId": "42babbd2-e6a2-4e96-c90f-a67dd73823e1"
      },
      "execution_count": 47,
      "outputs": [
        {
          "output_type": "stream",
          "name": "stdout",
          "text": [
            "Drive already mounted at /content/drive; to attempt to forcibly remount, call drive.mount(\"/content/drive\", force_remount=True).\n"
          ]
        }
      ]
    },
    {
      "cell_type": "code",
      "source": [
        "import os\n",
        "os.chdir('/content/drive/My Drive/VERIYAPILARI_ISTKA') # drive icindeki klasore erisim linki isleme alındır\n",
        "\n",
        "!pwd # kodun cıktısını dosya yolu olarak veren kod blogudur"
      ],
      "metadata": {
        "colab": {
          "base_uri": "https://localhost:8080/"
        },
        "id": "h4pqkn8VqBWc",
        "outputId": "8cd97a64-8e5b-40f7-85d9-ac9bf4c2f545"
      },
      "execution_count": 48,
      "outputs": [
        {
          "output_type": "stream",
          "name": "stdout",
          "text": [
            "/content/drive/My Drive/VERIYAPILARI_ISTKA\n"
          ]
        }
      ]
    },
    {
      "cell_type": "code",
      "source": [
        "isim_listesi = [\"Ali\", \"Şerafettin\", \"Osman\", \"İclal\", \"Ayşe\"]\n",
        "\n",
        "def en_uzun_ismi_bul(isim_listesi):\n",
        "    en_uzun_isim = isim_listesi[0]  # Başlangıçta ilk ismi en uzun olarak varsayıyoruz\n",
        "    for isim in isim_listesi:\n",
        "        if len(isim) > len(en_uzun_isim):\n",
        "            en_uzun_isim = isim  # Daha uzun bir isim bulunursa, en uzun ismi güncelliyoruz\n",
        "    return en_uzun_isim\n",
        "\n",
        "def en_uzun_isim_indeksi_bul(isim_listesi):\n",
        "    en_uzun_indeks = 0  # Başlangıçta ilk ismin indeksini en uzun olarak varsayıyoruz\n",
        "    en_uzun_uzunluk = len(isim_listesi[0])  # İlk ismin uzunluğunu alıyoruz\n",
        "\n",
        "    for i in range(len(isim_listesi)):\n",
        "        if len(isim_listesi[i]) > en_uzun_uzunluk:\n",
        "            en_uzun_uzunluk = len(isim_listesi[i])\n",
        "            en_uzun_indeks = i  # Daha uzun bir isim bulunursa, en uzun ismin indeksini güncelliyoruz\n",
        "\n",
        "    return en_uzun_indeks\n",
        "\n",
        "en_uzun_isim = en_uzun_ismi_bul(isim_listesi)\n",
        "en_uzun_indeks = en_uzun_isim_indeksi_bul(isim_listesi)\n",
        "\n",
        "print(\"En uzun isim: \", en_uzun_isim)\n",
        "print(\"En uzun ismin liste adresi: \", en_uzun_indeks)"
      ],
      "metadata": {
        "colab": {
          "base_uri": "https://localhost:8080/"
        },
        "id": "bWFdCklmqUbz",
        "outputId": "2162a17b-b952-4184-8812-0bdcd0b54f32"
      },
      "execution_count": null,
      "outputs": [
        {
          "output_type": "stream",
          "name": "stdout",
          "text": [
            "En uzun isim:  Şerafettin\n",
            "En uzun ismin liste adresi:  1\n"
          ]
        }
      ]
    },
    {
      "cell_type": "code",
      "source": [
        "Sayi_dizisi = []\n",
        "\n",
        "for i in range(1,176):\n",
        "  if i % 13 == 0:\n",
        "    Sayi_dizisi.append(i)\n",
        "\n",
        "print(\"Listeye eklenen elemanlar: \",Sayi_dizisi)\n",
        "print(\"Listenin eleman sayisi: \", len(Sayi_dizisi))\n",
        "\n",
        "\n"
      ],
      "metadata": {
        "colab": {
          "base_uri": "https://localhost:8080/"
        },
        "id": "KKOuCNTpqUiz",
        "outputId": "855b4732-32aa-4786-cf77-5acf0d9cebb4"
      },
      "execution_count": null,
      "outputs": [
        {
          "output_type": "stream",
          "name": "stdout",
          "text": [
            "Listeye eklenen elemanlar:  [13, 26, 39, 52, 65, 78, 91, 104, 117, 130, 143, 156, 169]\n",
            "Listenin eleman sayisi:  13\n"
          ]
        }
      ]
    },
    {
      "cell_type": "code",
      "source": [
        "import pandas as pd\n",
        "\n",
        "VeriSetiYolu = '/content/drive/My Drive/VERIYAPILARI_ISTKA/veri seti'\n",
        "\n",
        "for file in os.listdir(VeriSetiYolu):                         # Klasördeki tüm dosyaları listele\n",
        "\n",
        "    if file.endswith(('.xlsx', '.xls')):                      # Sadece Excel dosyalarını seç\n",
        "\n",
        "        df = pd.read_excel(os.path.join(VeriSetiYolu, file))  # Excel dosyasını pandas ile oku\n",
        "\n",
        "        df.to_csv(os.path.join(VeriSetiYolu, file.rsplit('.', 1)[0] + '.csv'), index=False)\n",
        "                                                              # DataFrame'i CSV formatında kaydet\n",
        "        print(f\"{file} dosyası CSV formatına çevrildi.\")      # Çevrim İşlemi Çıktısı\n",
        "\n",
        "# İşlem tamamlandığında kaç tane excel dosyası var ise o kadar *.csv formatına çevildiğinin\n",
        "# bilgisini almaktayız"
      ],
      "metadata": {
        "id": "_1SlVVeV3yu9",
        "colab": {
          "base_uri": "https://localhost:8080/"
        },
        "outputId": "583f798e-d7bd-4a31-d148-869fde0deafd"
      },
      "execution_count": 50,
      "outputs": [
        {
          "output_type": "stream",
          "name": "stdout",
          "text": [
            "atktan-geri-kazanm-miktarlar.xlsx dosyası CSV formatına çevrildi.\n"
          ]
        }
      ]
    }
  ]
}