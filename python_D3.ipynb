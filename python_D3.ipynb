{
  "nbformat": 4,
  "nbformat_minor": 0,
  "metadata": {
    "colab": {
      "provenance": []
    },
    "kernelspec": {
      "name": "python3",
      "display_name": "Python 3"
    },
    "language_info": {
      "name": "python"
    }
  },
  "cells": [
    {
      "cell_type": "code",
      "execution_count": 1,
      "metadata": {
        "colab": {
          "base_uri": "https://localhost:8080/"
        },
        "id": "LzrMHOVnulWB",
        "outputId": "66cbc590-e23b-4247-85ca-0bf8d2dfa0be"
      },
      "outputs": [
        {
          "output_type": "stream",
          "name": "stdout",
          "text": [
            "Merhaba İGU - İSTKA, Ders 3\n"
          ]
        }
      ],
      "source": [
        "print(\"Merhaba İGU - İSTKA, Ders 3\")"
      ]
    },
    {
      "cell_type": "code",
      "source": [
        "import sys #kutuphane tanımlar\n",
        "print(sys.version)"
      ],
      "metadata": {
        "colab": {
          "base_uri": "https://localhost:8080/"
        },
        "id": "oI8aojofurmO",
        "outputId": "c07bce1c-789d-4d64-c5a1-b141f6857dd6"
      },
      "execution_count": 2,
      "outputs": [
        {
          "output_type": "stream",
          "name": "stdout",
          "text": [
            "3.10.12 (main, Jul 29 2024, 16:56:48) [GCC 11.4.0]\n"
          ]
        }
      ]
    },
    {
      "cell_type": "code",
      "source": [
        "from google.colab import drive # goole colab - drive baglantısı\n",
        "drive.mount(\"/content/drive\")"
      ],
      "metadata": {
        "colab": {
          "base_uri": "https://localhost:8080/"
        },
        "id": "kQgggcgeurtW",
        "outputId": "449cd5ab-74b7-4de4-94b7-3f89f839ab29"
      },
      "execution_count": 3,
      "outputs": [
        {
          "output_type": "stream",
          "name": "stdout",
          "text": [
            "Mounted at /content/drive\n"
          ]
        }
      ]
    },
    {
      "cell_type": "code",
      "source": [
        "import os\n",
        "os.chdir('/content/drive/My Drive/VERIYAPILARI_ISTKA') # drive icindeki klasore erisim linki isleme alındır\n",
        "\n",
        "!pwd # kodun cıktısını dosya yolu olarak veren kod blogudur."
      ],
      "metadata": {
        "colab": {
          "base_uri": "https://localhost:8080/"
        },
        "id": "_5k3KWhjurzu",
        "outputId": "27868e6b-03c8-4658-a42e-fa9244a9881b"
      },
      "execution_count": 4,
      "outputs": [
        {
          "output_type": "stream",
          "name": "stdout",
          "text": [
            "/content/drive/My Drive/VERIYAPILARI_ISTKA\n"
          ]
        }
      ]
    },
    {
      "cell_type": "code",
      "source": [
        "# İf kosul yapısı\n",
        "x = 10\n",
        "\n",
        "if x > 5:\n",
        "  print(\"x, 5'ten buyuktur\")"
      ],
      "metadata": {
        "colab": {
          "base_uri": "https://localhost:8080/"
        },
        "id": "TWzMnB1PvE1_",
        "outputId": "4782e863-97fa-4b4a-bde0-621382f56047"
      },
      "execution_count": 5,
      "outputs": [
        {
          "output_type": "stream",
          "name": "stdout",
          "text": [
            "x, 5'ten buyuktur\n"
          ]
        }
      ]
    },
    {
      "cell_type": "code",
      "source": [
        "# if - else kosulu yapısı\n",
        "\n",
        "x = 3\n",
        "if x > 5:\n",
        "  print(\"x, 5'ten buyuktur\")\n",
        "else:\n",
        "    print(\"x,5'ten kucuk veya esittir\")"
      ],
      "metadata": {
        "colab": {
          "base_uri": "https://localhost:8080/"
        },
        "id": "6eLpoTC44UWA",
        "outputId": "f43f0954-e6f3-47a1-98bf-88cefbcaaf05"
      },
      "execution_count": 6,
      "outputs": [
        {
          "output_type": "stream",
          "name": "stdout",
          "text": [
            "x,5'ten kucuk veya esittir\n"
          ]
        }
      ]
    },
    {
      "cell_type": "code",
      "source": [
        "# if-elif-else Kosul Yapısı\n",
        "x = 8\n",
        "if x > 10:\n",
        "  print(\"x, 10'dan buyuktur\")\n",
        "elif x > 5:\n",
        "  print(\"x, 5'ten buyuktur ama 10'dan kucuk veya esittir\")\n",
        "else:\n",
        "  print(\"x,5'ten kucuk veya esittir.\")"
      ],
      "metadata": {
        "colab": {
          "base_uri": "https://localhost:8080/"
        },
        "id": "L2NqUCcW6FCo",
        "outputId": "1eca49dd-139e-496b-f1d8-468592241981"
      },
      "execution_count": 8,
      "outputs": [
        {
          "output_type": "stream",
          "name": "stdout",
          "text": [
            "x, 5'ten buyuktur ama 10'dan kucuk veya esittir\n"
          ]
        }
      ]
    },
    {
      "cell_type": "code",
      "source": [
        "#İç İçe Koşul Yapısı\n",
        "x = 12\n",
        "y = 8\n",
        "\n",
        "if x > 10:\n",
        "  if y > 5:\n",
        "    print(\"x,10'dan buyuk ve y, 5'ten buyuktur\") # Bu satır calısır\n",
        "  else:\n",
        "    print(\"x, 10'dan buyuk ve y,5'ten kucuk veya esittir\")\n",
        "else:\n",
        "  print(\"x, 10'dan kucuk veya esittir\")"
      ],
      "metadata": {
        "colab": {
          "base_uri": "https://localhost:8080/"
        },
        "id": "AMrt-R9FC0Dp",
        "outputId": "5075e69e-15ba-445f-9569-1827f85fe3b6"
      },
      "execution_count": 9,
      "outputs": [
        {
          "output_type": "stream",
          "name": "stdout",
          "text": [
            "x,10'dan buyuk ve y, 5'ten buyuktur\n"
          ]
        }
      ]
    },
    {
      "cell_type": "code",
      "source": [
        "# Mantıksal Operatörler ile Koşullar\n",
        "\n",
        "x = 7\n",
        "y = 3\n",
        "\n",
        "# 'and' operatoru ile\n",
        "if x > 5 and y > 2:\n",
        "  print(\"x, 5'ten buyuk ve y, 2'den buyuktur\") # Bu satır calısır\n",
        "\n",
        "# 'or' operatoru ile\n",
        "if x > 5 or y > 5:\n",
        "  print(\"x veya y 5'ten buyuk\") # Bu satır calısır\n",
        "\n",
        "# 'not' operatoru ile\n",
        "if not(x > 10):\n",
        "  print(\"x,10'dan buyuk degildir\") # Bu satır calısır"
      ],
      "metadata": {
        "colab": {
          "base_uri": "https://localhost:8080/"
        },
        "id": "49ntzCJfELNe",
        "outputId": "1da0357f-6685-448d-9720-d069bb483720"
      },
      "execution_count": 10,
      "outputs": [
        {
          "output_type": "stream",
          "name": "stdout",
          "text": [
            "x, 5'ten buyuk ve y, 2'den buyuktur\n",
            "x veya y 5'ten buyuk\n",
            "x,10'dan buyuk degildir\n"
          ]
        }
      ]
    },
    {
      "cell_type": "code",
      "source": [
        "# Ornek 1: Not Sistemi\n",
        "\n",
        "notu = 85 #not farkı gosterilecek\n",
        "if notu >=90:\n",
        "  print(\"Harf notu: A\")\n",
        "\n",
        "elif notu >=80:\n",
        "  print(\"Harf notu: B\") #Bu satır calısır\n",
        "\n",
        "elif notu >=70:\n",
        "  print(\"Harf notu: C\")\n",
        "\n",
        "elif notu >=60:\n",
        "  print(\"Harf notu: D\")\n",
        "\n",
        "else:\n",
        "  print(\"Harf notu: F\")"
      ],
      "metadata": {
        "colab": {
          "base_uri": "https://localhost:8080/"
        },
        "id": "kk827avNGWPU",
        "outputId": "76bf3bce-612f-44de-dfd1-8ec3fbebd534"
      },
      "execution_count": 14,
      "outputs": [
        {
          "output_type": "stream",
          "name": "stdout",
          "text": [
            "Harf notu: B\n"
          ]
        }
      ]
    },
    {
      "cell_type": "code",
      "source": [
        "# Ornek 2: Yas Kontrolu\n",
        "\n",
        "yas = 20\n",
        "\n",
        "if yas < 18:\n",
        "  print(\"Resit degilsiniz\")\n",
        "elif yas < 21:\n",
        "  print(\"Resitsiniz ama içecek satın alamazsınız\")\n",
        "else:\n",
        "  print(\"içecek satın alabilirsiniz\")"
      ],
      "metadata": {
        "colab": {
          "base_uri": "https://localhost:8080/"
        },
        "id": "ejl40YIlHOj-",
        "outputId": "adb28edd-e44f-4025-eb32-0b8ac974933f"
      },
      "execution_count": 15,
      "outputs": [
        {
          "output_type": "stream",
          "name": "stdout",
          "text": [
            "Resitsiniz ama içecek satın alamazsınız\n"
          ]
        }
      ]
    },
    {
      "cell_type": "code",
      "source": [
        "# Ornek 3: Sayı Pozitif, Negatif veya Sıfır mı?\n",
        "sayi = int(input(\"Bir sayi gir\"))\n",
        "\n",
        "if sayi > 0:\n",
        "  print(\"Sayı pozitiftir\")\n",
        "\n",
        "elif sayi < 0:\n",
        "  print(\"Sayı negatiftir\") #Bu satır calısır\n",
        "\n",
        "else:\n",
        "  print(\"Sayı sıfırdır\")"
      ],
      "metadata": {
        "colab": {
          "base_uri": "https://localhost:8080/"
        },
        "id": "t-i2PIq4IG_Y",
        "outputId": "b3121ed3-782c-4101-cc7b-5137333a7b5c"
      },
      "execution_count": 16,
      "outputs": [
        {
          "output_type": "stream",
          "name": "stdout",
          "text": [
            "Bir sayi gir-5\n",
            "Sayı negatiftir\n"
          ]
        }
      ]
    }
  ]
}