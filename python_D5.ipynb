{
  "nbformat": 4,
  "nbformat_minor": 0,
  "metadata": {
    "colab": {
      "provenance": []
    },
    "kernelspec": {
      "name": "python3",
      "display_name": "Python 3"
    },
    "language_info": {
      "name": "python"
    }
  },
  "cells": [
    {
      "cell_type": "code",
      "execution_count": null,
      "metadata": {
        "colab": {
          "base_uri": "https://localhost:8080/"
        },
        "id": "f2Oh6GSLCHiz",
        "outputId": "1940ee6f-f3f7-44e4-dd9b-007df02f735b"
      },
      "outputs": [
        {
          "output_type": "stream",
          "name": "stdout",
          "text": [
            "Merhaba İGU - İSTKA, Ders 5\n"
          ]
        }
      ],
      "source": [
        "print(\"Merhaba İGU - İSTKA, Ders 5\")"
      ]
    },
    {
      "cell_type": "code",
      "source": [
        "import sys #kutuphane tanımlar\n",
        "print(sys.version)"
      ],
      "metadata": {
        "id": "9jODC1grCNdP",
        "colab": {
          "base_uri": "https://localhost:8080/"
        },
        "outputId": "9b441600-0a4b-4b3e-eac6-ff8aa16a64d8"
      },
      "execution_count": 2,
      "outputs": [
        {
          "output_type": "stream",
          "name": "stdout",
          "text": [
            "3.10.12 (main, Jul 29 2024, 16:56:48) [GCC 11.4.0]\n"
          ]
        }
      ]
    },
    {
      "cell_type": "code",
      "source": [
        "from google.colab import drive # goole colab - drive baglantısı\n",
        "drive.mount(\"/content/drive\")"
      ],
      "metadata": {
        "id": "2MC94WHYCNhf",
        "colab": {
          "base_uri": "https://localhost:8080/"
        },
        "outputId": "5ea39b3a-1b4d-4598-af6f-f5fd636d1088"
      },
      "execution_count": 3,
      "outputs": [
        {
          "output_type": "stream",
          "name": "stdout",
          "text": [
            "Mounted at /content/drive\n"
          ]
        }
      ]
    },
    {
      "cell_type": "code",
      "source": [
        "import os\n",
        "os.chdir('/content/drive/My Drive/VERIYAPILARI_ISTKA') # drive icindeki klasore erisim linki isleme alındır\n",
        "\n",
        "!pwd # kodun cıktısını dosya yolu olarak veren kod blogudur"
      ],
      "metadata": {
        "id": "xlEXPBksCNl3",
        "colab": {
          "base_uri": "https://localhost:8080/"
        },
        "outputId": "3ad7e3f4-f7c6-4912-f130-10afde74ee1b"
      },
      "execution_count": 4,
      "outputs": [
        {
          "output_type": "stream",
          "name": "stdout",
          "text": [
            "/content/drive/My Drive/VERIYAPILARI_ISTKA\n"
          ]
        }
      ]
    },
    {
      "cell_type": "code",
      "source": [
        "# 1 ile 100 arasındaki sayılardan 7'ye bölünenleri bulan Python kodu\n",
        "sayi_dizisi = []\n",
        "sayi_dizisi2 = []\n",
        "sayi = 1\n",
        "\n",
        "while sayi <=100:\n",
        "  if sayi % 7 ==0:\n",
        "    sayi_dizisi.append(sayi) #append sayı dizisine ekleme fonksiyonu\n",
        "  elif sayi % 7 !=0:\n",
        "    sayi_dizisi2.append(sayi)\n",
        "  sayi+=1\n",
        "\n",
        "# Sonucu ekrana yazdırır\n",
        "print(\"1 ile 100 arasındaki 7ye bölünen sayılar: \",sayi_dizisi)\n",
        "print(\"Toplam sayı adeti: \",len(sayi_dizisi))\n",
        "\n",
        "print(\"1 ile 100 arasındaki 7ye bölünmeyen sayılar: \",sayi_dizisi2)\n",
        "print(\"Toplam sayı adeti: \",len(sayi_dizisi2))"
      ],
      "metadata": {
        "colab": {
          "base_uri": "https://localhost:8080/"
        },
        "id": "JprGh2MCGOYu",
        "outputId": "f9bb5c5e-e5db-4210-80f4-a936ce52ebc2"
      },
      "execution_count": 8,
      "outputs": [
        {
          "output_type": "stream",
          "name": "stdout",
          "text": [
            "1 ile 100 arasındaki 7ye bölünen sayılar:  [7, 14, 21, 28, 35, 42, 49, 56, 63, 70, 77, 84, 91, 98]\n",
            "Toplam sayı adeti:  14\n",
            "1 ile 100 arasındaki 7ye bölünmeyen sayılar:  [1, 2, 3, 4, 5, 6, 8, 9, 10, 11, 12, 13, 15, 16, 17, 18, 19, 20, 22, 23, 24, 25, 26, 27, 29, 30, 31, 32, 33, 34, 36, 37, 38, 39, 40, 41, 43, 44, 45, 46, 47, 48, 50, 51, 52, 53, 54, 55, 57, 58, 59, 60, 61, 62, 64, 65, 66, 67, 68, 69, 71, 72, 73, 74, 75, 76, 78, 79, 80, 81, 82, 83, 85, 86, 87, 88, 89, 90, 92, 93, 94, 95, 96, 97, 99, 100]\n",
            "Toplam sayı adeti:  86\n"
          ]
        }
      ]
    },
    {
      "cell_type": "code",
      "source": [
        "while True:\n",
        "  try:\n",
        "    gelen1 = float(input(\"Birinci sayiyi girin: \"))\n",
        "    gelen2 = float(input(\"İkinci sayiyi girin: \"))\n",
        "\n",
        "    if gelen1>gelen2:\n",
        "      print(\"İlk sayi buyuktur.\")\n",
        "    elif gelen1<gelen2:\n",
        "      print(\"ikinci sayı buyuktur.\")\n",
        "    else:\n",
        "      print(\"Sayilar birbirine esittir.\")\n",
        "    break\n",
        "  except ValueError:\n",
        "    print(\"Lutfen gecerli bir sayi giriniz!\")\n",
        "\n"
      ],
      "metadata": {
        "colab": {
          "base_uri": "https://localhost:8080/"
        },
        "id": "PwOSBKexGOfe",
        "outputId": "34753583-d871-493b-9faf-10f2fe6d88f9"
      },
      "execution_count": 9,
      "outputs": [
        {
          "output_type": "stream",
          "name": "stdout",
          "text": [
            "Birinci sayiyi girin: 5\n",
            "İkinci sayiyi girin: 7\n",
            "ikinci sayı buyuktur\n"
          ]
        }
      ]
    },
    {
      "cell_type": "code",
      "source": [
        "# Kullanıcıdan alınan sayıya kadar 1'den başlayarak faktoriyel hesabının yapılması\n",
        "\n",
        "while True:\n",
        "  try:\n",
        "    sayi = int(input(\"Bir sayi giriniz: \"))\n",
        "    if sayi < 0:\n",
        "      print(\"Negatif sayiların faktoriyeli hesaplanamaz\")\n",
        "    elif sayi == 0 or sayi == 1:\n",
        "      print(1)\n",
        "    else:\n",
        "      sonuc = 1\n",
        "      while sayi > 1:\n",
        "        sonuc *= sayi\n",
        "        sayi -= 1\n",
        "      print(sonuc)\n",
        "    break\n",
        "  except ValueError:\n",
        "    print(\"Lutfen gecerli biir sayi giriniz\")"
      ],
      "metadata": {
        "colab": {
          "base_uri": "https://localhost:8080/"
        },
        "id": "ho8wXglWGOkX",
        "outputId": "b4904f56-16b1-43ae-98fa-9cc02b875c91"
      },
      "execution_count": 11,
      "outputs": [
        {
          "output_type": "stream",
          "name": "stdout",
          "text": [
            "Bir sayi giriniz: 5\n",
            "120\n"
          ]
        }
      ]
    },
    {
      "cell_type": "code",
      "source": [
        "# Kullanıcıdan başlangıç değeri al\n",
        "\n",
        "while True:\n",
        "    try:\n",
        "        baslangic_degeri = int(input(\"Başlangıç değerini girin: \"))\n",
        "        if baslangic_degeri < 0:\n",
        "            baslangic_degeri = abs(baslangic_degeri)\n",
        "            print(f\"Negatif değer girdiniz, pozitif olarak alındı: {baslangic_degeri}\")\n",
        "        break\n",
        "    except ValueError:\n",
        "        print(\"Lütfen geçerli bir tam sayı girin.\")\n",
        "\n",
        "# Kullanıcıdan son değer al\n",
        "while True:\n",
        "    try:\n",
        "        bitis_degeri = int(input(\"Bitiş değerini girin: \"))\n",
        "        if bitis_degeri < 0:\n",
        "            bitis_degeri = abs(bitis_degeri)\n",
        "            print(f\"Negatif değer girdiniz, pozitif olarak alındı: {bitis_degeri}\")\n",
        "        break\n",
        "    except ValueError:\n",
        "        print(\"Lütfen geçerli bir tam sayı girin.\")\n",
        "\n",
        "# Başlangıç ve bitiş değerleri arasında çift sayıları bul ve topla\n",
        "cift_sayilar = []\n",
        "cift_sayilarin_toplami = 0\n",
        "sayi = baslangic_degeri\n",
        "\n",
        "while sayi <= bitis_degeri:\n",
        "    if sayi % 2 == 0:\n",
        "        cift_sayilar.append(sayi)\n",
        "        cift_sayilarin_toplami += sayi\n",
        "    sayi += 1\n",
        "\n",
        "# Elde edilen çift sayıları ve toplamlarını ekrana yazdır\n",
        "print(f\"{baslangic_degeri} ile {bitis_degeri} arasındaki çift sayılar:\")\n",
        "for num in cift_sayilar:\n",
        "    print(num, end=\" \")\n",
        "\n",
        "print(f\"\\nÇift sayıların toplamı: {cift_sayilarin_toplami}\")"
      ],
      "metadata": {
        "colab": {
          "base_uri": "https://localhost:8080/"
        },
        "id": "N3vl0MX0WNSO",
        "outputId": "8c712fc2-d6a4-4eb4-9d27-1741eac0bcb8"
      },
      "execution_count": 12,
      "outputs": [
        {
          "output_type": "stream",
          "name": "stdout",
          "text": [
            "Başlangıç değerini girin: 5\n",
            "Bitiş değerini girin: 2\n",
            "5 ile 2 arasındaki çift sayılar:\n",
            "\n",
            "Çift sayıların toplamı: 0\n"
          ]
        }
      ]
    },
    {
      "cell_type": "code",
      "source": [
        "# Önceden tanımlalan sesli harf listesinde girilen metnin karşılaştırılması yapılarak sesli ve sessiz harf kontrolünün yapımı\n",
        "sesli_harfler = 'aeıioöuüAEIİOÖUÜ'\n",
        "\n",
        "kelime = input(\"Bir kelime girin: \") # Kullanıcıdan bir kelime al\n",
        "\n",
        "# Sesli ve sessiz harf sayısını hesapla\n",
        "sesli_harf_sayisi = 0\n",
        "sessiz_harf_sayisi = 0\n",
        "\n",
        "\n",
        "#isalpha() ile bir stringde yalnızca harf olup olmadığını kontrol etmek için kullanılır.\n",
        "\n",
        "\n",
        "#Aşağıdaki kod blogunda geçen \"isalpha\" harf dışı bir karakter ile karşılaşınca \"false\" döndürmektedir.\n",
        "\n",
        "for harf in kelime:\n",
        "    if harf.isalpha():  # Sadece harfleri kontrol et\n",
        "        if harf in sesli_harfler:\n",
        "            sesli_harf_sayisi += 1\n",
        "        else:\n",
        "            sessiz_harf_sayisi += 1\n",
        "\n",
        "# Sonuçları ekrana yazdır\n",
        "print(kelime, \"kelimesinde\" , sesli_harf_sayisi , \"adet sesli harf ve\", sessiz_harf_sayisi, \"sessiz harf vardır.\")"
      ],
      "metadata": {
        "colab": {
          "base_uri": "https://localhost:8080/"
        },
        "id": "_J1QEXq2WNVG",
        "outputId": "a3daefaa-492d-4cf3-bb1d-d95fa79b57e8"
      },
      "execution_count": 14,
      "outputs": [
        {
          "output_type": "stream",
          "name": "stdout",
          "text": [
            "Bir kelime girin: beyzanur\n",
            "beyzanur kelimesinde 3 adet sesli harf ve 5 sessiz harf vardır.\n"
          ]
        }
      ]
    }
  ]
}