{
  "nbformat": 4,
  "nbformat_minor": 0,
  "metadata": {
    "colab": {
      "provenance": []
    },
    "kernelspec": {
      "name": "python3",
      "display_name": "Python 3"
    },
    "language_info": {
      "name": "python"
    }
  },
  "cells": [
    {
      "cell_type": "code",
      "execution_count": 50,
      "metadata": {
        "colab": {
          "base_uri": "https://localhost:8080/"
        },
        "id": "3iGbkySl57z7",
        "outputId": "9e3de2bd-597a-4132-828a-291d5eefbff8"
      },
      "outputs": [
        {
          "output_type": "stream",
          "name": "stdout",
          "text": [
            "Merhaba İGU - İSTKA, Ders 4\n"
          ]
        }
      ],
      "source": [
        "print(\"Merhaba İGU - İSTKA, Ders 4\")"
      ]
    },
    {
      "cell_type": "code",
      "source": [
        "import sys #kutuphane tanımlar\n",
        "print(sys.version)"
      ],
      "metadata": {
        "colab": {
          "base_uri": "https://localhost:8080/"
        },
        "id": "ykQpQ-xR6xWw",
        "outputId": "601d5b8d-3986-4379-9604-b108a7e886e3"
      },
      "execution_count": 51,
      "outputs": [
        {
          "output_type": "stream",
          "name": "stdout",
          "text": [
            "3.10.12 (main, Jul 29 2024, 16:56:48) [GCC 11.4.0]\n"
          ]
        }
      ]
    },
    {
      "cell_type": "code",
      "source": [
        "from google.colab import drive # goole colab - drive baglantısı\n",
        "drive.mount(\"/content/drive\")"
      ],
      "metadata": {
        "colab": {
          "base_uri": "https://localhost:8080/"
        },
        "id": "bAKZaY-Z6xmp",
        "outputId": "a99cef56-9f8d-4aa8-adc2-4ef031714c92"
      },
      "execution_count": 52,
      "outputs": [
        {
          "output_type": "stream",
          "name": "stdout",
          "text": [
            "Drive already mounted at /content/drive; to attempt to forcibly remount, call drive.mount(\"/content/drive\", force_remount=True).\n"
          ]
        }
      ]
    },
    {
      "cell_type": "code",
      "source": [
        "import os\n",
        "os.chdir('/content/drive/My Drive/VERIYAPILARI_ISTKA') # drive icindeki klasore erisim linki isleme alındır\n",
        "\n",
        "!pwd # kodun cıktısını dosya yolu olarak veren kod blogudur."
      ],
      "metadata": {
        "colab": {
          "base_uri": "https://localhost:8080/"
        },
        "id": "8rBLX_Gl6xsg",
        "outputId": "410ff64a-5dff-40cc-90d4-d72bba59d6aa"
      },
      "execution_count": 53,
      "outputs": [
        {
          "output_type": "stream",
          "name": "stdout",
          "text": [
            "/content/drive/My Drive/VERIYAPILARI_ISTKA\n"
          ]
        }
      ]
    },
    {
      "cell_type": "code",
      "source": [
        "# for dongusu ornegi: 0'dan 4'e kadar olan sayıların yazdırılması islemidir\n",
        "for i in range(5):\n",
        "  print(i)"
      ],
      "metadata": {
        "colab": {
          "base_uri": "https://localhost:8080/"
        },
        "id": "6hWwTW5w69jG",
        "outputId": "9cb30e3f-d6cd-4526-c557-54e05310e44d"
      },
      "execution_count": 54,
      "outputs": [
        {
          "output_type": "stream",
          "name": "stdout",
          "text": [
            "0\n",
            "1\n",
            "2\n",
            "3\n",
            "4\n"
          ]
        }
      ]
    },
    {
      "cell_type": "code",
      "source": [
        "# for dönügüsü örneği: alışveriş listesi oluşturma\n",
        "\n",
        "liste = [\"elma\", \"ekmek\", \"sut\", \"peynir\"]\n",
        "\n",
        "for alinacaklar in liste:\n",
        "  print(alinacaklar)"
      ],
      "metadata": {
        "colab": {
          "base_uri": "https://localhost:8080/"
        },
        "id": "4TpWgD5469ld",
        "outputId": "4fb5bd65-664b-4451-e4dc-b4af82abb33e"
      },
      "execution_count": 55,
      "outputs": [
        {
          "output_type": "stream",
          "name": "stdout",
          "text": [
            "elma\n",
            "ekmek\n",
            "sut\n",
            "peynir\n"
          ]
        }
      ]
    },
    {
      "cell_type": "code",
      "source": [
        "# for döngüsü örneği: bir sınıftaki öğrencilerin notlarının ortalamasını hesaplama\n",
        "\n",
        "notlar = [85,92,78,90,88]\n",
        "\n",
        "toplam = 0\n",
        "for sayi in notlar:\n",
        "  toplam+=sayi\n",
        "\n",
        "ortalama = toplam / len(notlar)  #listenin eleman sayisini len ile ogreniriz\n",
        "\n",
        "print(\"Birinci Print -> Not ortalamasi: \", ortalama)\n",
        "print(f\"İkinci Print -> Not ortalamasi: {ortalama}\")\n"
      ],
      "metadata": {
        "colab": {
          "base_uri": "https://localhost:8080/"
        },
        "id": "jd1jjvTABVsb",
        "outputId": "a59296cb-c254-4084-b016-052b7cee0e94"
      },
      "execution_count": 56,
      "outputs": [
        {
          "output_type": "stream",
          "name": "stdout",
          "text": [
            "Birinci Print -> Not ortalamasi:  86.6\n",
            "İkinci Print -> Not ortalamasi: 86.6\n"
          ]
        }
      ]
    },
    {
      "cell_type": "code",
      "source": [
        "# while döngüsü örneği: 0'dan 4'e kadar olan sayıları yazdırılması işlemidir.\n",
        "\n",
        "i = 0\n",
        "while i < 5:\n",
        "  print(i)\n",
        "  i+=1\n"
      ],
      "metadata": {
        "colab": {
          "base_uri": "https://localhost:8080/"
        },
        "id": "Hk9I6TrrB_Qy",
        "outputId": "11b9e88b-8af0-462d-f05c-5b197e79c9b0"
      },
      "execution_count": 57,
      "outputs": [
        {
          "output_type": "stream",
          "name": "stdout",
          "text": [
            "0\n",
            "1\n",
            "2\n",
            "3\n",
            "4\n"
          ]
        }
      ]
    },
    {
      "cell_type": "code",
      "source": [
        "# Kullanıcıdan bir sayi alınması\n",
        "kullanici_girdisi = float(input(\"Bir sayi giriniz: \"))\n",
        "\n",
        "#0'dan kullanıcı tarafından girilen sayıya kadar sıralama yapma\n",
        "i = 0\n",
        "while i <= kullanici_girdisi:\n",
        "  print(i)\n",
        "  i+=1\n"
      ],
      "metadata": {
        "colab": {
          "base_uri": "https://localhost:8080/"
        },
        "id": "2ioXrzikB_TZ",
        "outputId": "0557b810-e4c2-4ca5-bfee-511d86bd9390"
      },
      "execution_count": 62,
      "outputs": [
        {
          "output_type": "stream",
          "name": "stdout",
          "text": [
            "Bir sayi giriniz: 3\n",
            "0\n",
            "1\n",
            "2\n",
            "3\n"
          ]
        }
      ]
    },
    {
      "cell_type": "code",
      "source": [
        "# break örnegi: 3'e ulastıgında dongu sonlandıran kod blogudur\n",
        "\n",
        "for i in range(5):\n",
        "  if i== 3:\n",
        "    break\n",
        "  print(i)\n"
      ],
      "metadata": {
        "colab": {
          "base_uri": "https://localhost:8080/"
        },
        "id": "SuiW5RBkDY7P",
        "outputId": "8ea294c3-eed6-4de5-ffd7-15de3cd258fd"
      },
      "execution_count": null,
      "outputs": [
        {
          "output_type": "stream",
          "name": "stdout",
          "text": [
            "0\n",
            "1\n",
            "2\n"
          ]
        }
      ]
    },
    {
      "cell_type": "code",
      "source": [
        "# continue örneği: 3'e ulastıgında o tekrar islemini  es gecen kod blogudur\n",
        "\n",
        "for i in range(5):\n",
        "  if i==3:\n",
        "    continue\n",
        "  print(i)"
      ],
      "metadata": {
        "colab": {
          "base_uri": "https://localhost:8080/"
        },
        "id": "aUwrzzXzDvU0",
        "outputId": "9aa37b9d-1e12-4d20-8ed2-58304279387b"
      },
      "execution_count": null,
      "outputs": [
        {
          "output_type": "stream",
          "name": "stdout",
          "text": [
            "0\n",
            "1\n",
            "2\n",
            "4\n"
          ]
        }
      ]
    },
    {
      "cell_type": "code",
      "source": [
        "#iç içe for döngüsü örneği: 2 boyutlu for döngüsü elemanı üzerinde işlemler\n",
        "matris = [\n",
        "    [1,2,3],\n",
        "    [4,5,6],\n",
        "    [7,8,9]\n",
        "]\n",
        "\n",
        "for x in matris:\n",
        "  for y in x:\n",
        "    print(y)"
      ],
      "metadata": {
        "colab": {
          "base_uri": "https://localhost:8080/"
        },
        "id": "PlqNF5KsEpnV",
        "outputId": "3f4e5150-5ad7-4adb-fb5c-bd1edb02fe25"
      },
      "execution_count": null,
      "outputs": [
        {
          "output_type": "stream",
          "name": "stdout",
          "text": [
            "1\n",
            "2\n",
            "3\n",
            "4\n",
            "5\n",
            "6\n",
            "7\n",
            "8\n",
            "9\n"
          ]
        }
      ]
    },
    {
      "cell_type": "code",
      "source": [
        "# kullanıcıdan bilgi alınması\n",
        "while True:\n",
        "    try:\n",
        "        gelen_bilgi = float(input(\"Bir sayı girin: \"))\n",
        "        break\n",
        "    except ValueError:\n",
        "        print(\"Lütfen geçerli bir sayı girin!\")\n",
        "\n",
        "# 0'dan kullanıcı tarafından girilen sayıya kadar sıralama yapma\n",
        "i = 0\n",
        "while i <= gelen_bilgi:\n",
        "    print(i)\n",
        "    i += 1\n",
        "\n"
      ],
      "metadata": {
        "colab": {
          "base_uri": "https://localhost:8080/"
        },
        "id": "lqyZhoxfPp4v",
        "outputId": "3fafc6e1-d5e9-4a1a-ad7c-77b2891ada1a"
      },
      "execution_count": 64,
      "outputs": [
        {
          "output_type": "stream",
          "name": "stdout",
          "text": [
            "Bir sayı girin: 2\n",
            "0\n",
            "1\n",
            "2\n"
          ]
        }
      ]
    },
    {
      "cell_type": "code",
      "source": [
        "# while döngüsü örneği: kullanıcı bakiye bilgisinin sorgulanması\n",
        "\n",
        "toplam_ucret = 1000\n",
        "\n",
        "while toplam_ucret > 0:\n",
        "  try:\n",
        "    cekilen_tutar = float(input(\"Çekmek istediginiz miktarı giriniz \"))\n",
        "    if cekilen_tutar > toplam_ucret:\n",
        "      print(\"Yetersiz bakiye!!\")\n",
        "      bilgi = input(\"işleme devam etmek istiyor musunuz? (e/h): \").lower()\n",
        "      if bilgi =='h':\n",
        "        print(\"işlem sonlandırıldı\")\n",
        "        break\n",
        "    else:\n",
        "      toplam_ucret-=cekilen_tutar\n",
        "      print(f\"Kalan bakiye:{toplam_ucret}\")\n",
        "      if toplam_ucret == 0:\n",
        "        print(\"Bakiye tukendi\")0\n",
        "        break\n",
        "  except ValueError:\n",
        "    print(\"Lutfen gecerli sayi giriniz.\")"
      ],
      "metadata": {
        "colab": {
          "base_uri": "https://localhost:8080/"
        },
        "id": "G440nTwsTVe_",
        "outputId": "1c1f27f4-5531-4b49-b031-2a378b7f2761"
      },
      "execution_count": 92,
      "outputs": [
        {
          "output_type": "stream",
          "name": "stdout",
          "text": [
            "Çekmek istediginiz miktarı giriniz 500\n",
            "Kalan bakiye:500.0\n",
            "Çekmek istediginiz miktarı giriniz 50\n",
            "Kalan bakiye:450.0\n",
            "Çekmek istediginiz miktarı giriniz 45\n",
            "Kalan bakiye:405.0\n",
            "Çekmek istediginiz miktarı giriniz 405\n",
            "Kalan bakiye:0.0\n",
            "Bakiye tukendi\n"
          ]
        }
      ]
    }
  ]
}