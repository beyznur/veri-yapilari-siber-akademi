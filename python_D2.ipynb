{
  "nbformat": 4,
  "nbformat_minor": 0,
  "metadata": {
    "colab": {
      "provenance": []
    },
    "kernelspec": {
      "name": "python3",
      "display_name": "Python 3"
    },
    "language_info": {
      "name": "python"
    }
  },
  "cells": [
    {
      "cell_type": "code",
      "execution_count": 1,
      "metadata": {
        "colab": {
          "base_uri": "https://localhost:8080/"
        },
        "id": "ug9KSFEwmkY1",
        "outputId": "970cc4b2-dcd0-4ea3-b830-fedeeb25eef8"
      },
      "outputs": [
        {
          "output_type": "stream",
          "name": "stdout",
          "text": [
            "Merhabai İGU - İSTKA / Ders 2\n"
          ]
        }
      ],
      "source": [
        "print(\"Merhabai İGU - İSTKA / Ders 2\")"
      ]
    },
    {
      "cell_type": "code",
      "source": [
        "#kutuphane tanımlar\n",
        "import sys\n",
        "print(sys.version)"
      ],
      "metadata": {
        "colab": {
          "base_uri": "https://localhost:8080/"
        },
        "id": "Pfmdi0T8pGdD",
        "outputId": "bd56a0a0-71d3-4d6e-fd97-e063c1f71dc0"
      },
      "execution_count": 3,
      "outputs": [
        {
          "output_type": "stream",
          "name": "stdout",
          "text": [
            "3.10.12 (main, Jul 29 2024, 16:56:48) [GCC 11.4.0]\n"
          ]
        }
      ]
    },
    {
      "cell_type": "code",
      "source": [
        "# goole colab - drive baglantısı\n",
        "from google.colab import drive\n",
        "drive.mount(\"/content/drive\")"
      ],
      "metadata": {
        "colab": {
          "base_uri": "https://localhost:8080/"
        },
        "id": "gZ2Fs6nApzsW",
        "outputId": "d786b668-7445-4986-983e-3994e251b0f7"
      },
      "execution_count": 4,
      "outputs": [
        {
          "output_type": "stream",
          "name": "stdout",
          "text": [
            "Mounted at /content/drive\n"
          ]
        }
      ]
    },
    {
      "cell_type": "code",
      "source": [
        "import os\n",
        "os.chdir('/content/drive/My Drive/VERIYAPILARI_ISTKA') # drive icindeki klasore erisim linki isleme alındır\n",
        "\n",
        "!pwd # kodun cıktısını dosya yolu olarak veren kod blogudur."
      ],
      "metadata": {
        "colab": {
          "base_uri": "https://localhost:8080/"
        },
        "id": "GgDowj_cp4Yv",
        "outputId": "819f3cc6-c955-4df1-f9ea-029e4c39396d"
      },
      "execution_count": 5,
      "outputs": [
        {
          "output_type": "stream",
          "name": "stdout",
          "text": [
            "/content/drive/My Drive/VERIYAPILARI_ISTKA\n"
          ]
        }
      ]
    },
    {
      "cell_type": "code",
      "source": [
        "#gecerli degisken tanımlama\n",
        "degisken1=10\n",
        "Degisken2 = 20\n",
        "_degisken3=30"
      ],
      "metadata": {
        "id": "aWjFgMVwp7v3"
      },
      "execution_count": 21,
      "outputs": []
    },
    {
      "cell_type": "code",
      "source": [
        "#gecersiz degisken tanımlama\n",
        "1degisken= 40\n",
        "degisken-4 = 50"
      ],
      "metadata": {
        "colab": {
          "base_uri": "https://localhost:8080/",
          "height": 106
        },
        "id": "EcQsnz5Kv1Ez",
        "outputId": "7be0838e-e4a9-4cdb-efc6-078d52af652b"
      },
      "execution_count": 12,
      "outputs": [
        {
          "output_type": "error",
          "ename": "SyntaxError",
          "evalue": "invalid decimal literal (<ipython-input-12-dacfb0425c2b>, line 1)",
          "traceback": [
            "\u001b[0;36m  File \u001b[0;32m\"<ipython-input-12-dacfb0425c2b>\"\u001b[0;36m, line \u001b[0;32m1\u001b[0m\n\u001b[0;31m    1degisken= 40 #gecersiz tanımlama\u001b[0m\n\u001b[0m    ^\u001b[0m\n\u001b[0;31mSyntaxError\u001b[0m\u001b[0;31m:\u001b[0m invalid decimal literal\n"
          ]
        }
      ]
    },
    {
      "cell_type": "code",
      "source": [
        "#degisken tanımlama islevi\n",
        "x = 5\n",
        "y = \"Merhaba Dunya\"\n",
        "print(x)\n",
        "print(y)"
      ],
      "metadata": {
        "colab": {
          "base_uri": "https://localhost:8080/"
        },
        "id": "5wemYrGpwMlz",
        "outputId": "4fdab1e0-01f5-4afc-fc1e-55666d558be9"
      },
      "execution_count": 22,
      "outputs": [
        {
          "output_type": "stream",
          "name": "stdout",
          "text": [
            "5\n",
            "Merhaba Dunya\n"
          ]
        }
      ]
    },
    {
      "cell_type": "code",
      "source": [
        "#Integer - tam sayı tanımlaması\n",
        "a = 10\n",
        "print(type(a))"
      ],
      "metadata": {
        "colab": {
          "base_uri": "https://localhost:8080/"
        },
        "id": "oOrMGxdWwrgd",
        "outputId": "6ed3b3f9-e001-4ca5-a5d5-d069795fcec1"
      },
      "execution_count": 14,
      "outputs": [
        {
          "output_type": "stream",
          "name": "stdout",
          "text": [
            "<class 'int'>\n"
          ]
        }
      ]
    },
    {
      "cell_type": "code",
      "source": [
        "#Float - ondalıklı sayı tanımlaması\n",
        "b = 20.5\n",
        "print(type(b))"
      ],
      "metadata": {
        "colab": {
          "base_uri": "https://localhost:8080/"
        },
        "id": "W5yWUYwFxll-",
        "outputId": "1b7f68ea-820f-447c-f86b-eb9f3e0c8e8c"
      },
      "execution_count": 17,
      "outputs": [
        {
          "output_type": "stream",
          "name": "stdout",
          "text": [
            "<class 'float'>\n"
          ]
        }
      ]
    },
    {
      "cell_type": "code",
      "source": [
        "#int'ten float'a cevrimin gerceklestirilmesi\n",
        "x = 10\n",
        "y = float(x)\n",
        "print(y,type(y))"
      ],
      "metadata": {
        "colab": {
          "base_uri": "https://localhost:8080/"
        },
        "id": "B_0jsRSZxyFn",
        "outputId": "d8777007-9909-460f-89c3-f6d7a540b26c"
      },
      "execution_count": 23,
      "outputs": [
        {
          "output_type": "stream",
          "name": "stdout",
          "text": [
            "10.0 <class 'float'>\n"
          ]
        }
      ]
    },
    {
      "cell_type": "code",
      "source": [
        "#float'tan int'e cevrimin gerceklestirilmesi\n",
        "a = 12.34\n",
        "b = int(a)\n",
        "print(b, type(b))"
      ],
      "metadata": {
        "colab": {
          "base_uri": "https://localhost:8080/"
        },
        "id": "gp7AtMKcx8s_",
        "outputId": "9b3e3d8b-e882-4205-ff0a-e99ffcc3c761"
      },
      "execution_count": 24,
      "outputs": [
        {
          "output_type": "stream",
          "name": "stdout",
          "text": [
            "12 <class 'int'>\n"
          ]
        }
      ]
    },
    {
      "cell_type": "code",
      "source": [
        "#String - metinsel içerik tanımlaması\n",
        "c = \"Python Programlama\"\n",
        "print(c)\n",
        "print(type(c))"
      ],
      "metadata": {
        "colab": {
          "base_uri": "https://localhost:8080/"
        },
        "id": "T9frBvze6xAK",
        "outputId": "494edf07-7655-4a4c-bbcb-47f8410bfca1"
      },
      "execution_count": 26,
      "outputs": [
        {
          "output_type": "stream",
          "name": "stdout",
          "text": [
            "Python Programlama\n",
            "<class 'str'>\n"
          ]
        }
      ]
    },
    {
      "cell_type": "code",
      "source": [
        "#Boolean (True - False) - Dogru / Yanlış tanımlaması\n",
        "d = True\n",
        "e = False\n",
        "print(d)\n",
        "print(type(e))"
      ],
      "metadata": {
        "colab": {
          "base_uri": "https://localhost:8080/"
        },
        "id": "p_o3iA5c7U2q",
        "outputId": "83187c5d-a299-4cb4-871e-dc96b03c8150"
      },
      "execution_count": 27,
      "outputs": [
        {
          "output_type": "stream",
          "name": "stdout",
          "text": [
            "True\n",
            "<class 'bool'>\n"
          ]
        }
      ]
    },
    {
      "cell_type": "code",
      "source": [
        "#List - Liste Tanımlaması\n",
        "my_list =[1,2,3,4,5]\n",
        "print(type(my_list))\n",
        "print(my_list)"
      ],
      "metadata": {
        "colab": {
          "base_uri": "https://localhost:8080/"
        },
        "id": "ADf34dIN8s8L",
        "outputId": "e26b25fe-4fbc-4cb0-cf1b-62f392b95add"
      },
      "execution_count": 28,
      "outputs": [
        {
          "output_type": "stream",
          "name": "stdout",
          "text": [
            "<class 'list'>\n",
            "[1, 2, 3, 4, 5]\n"
          ]
        }
      ]
    },
    {
      "cell_type": "code",
      "source": [
        "#Tuple - Demet tanımlaması\n",
        "demet = (1,2,3,4,5)\n",
        "print(type(demet))\n",
        "print(demet)"
      ],
      "metadata": {
        "colab": {
          "base_uri": "https://localhost:8080/"
        },
        "id": "qTipTeXC-RgE",
        "outputId": "fb1e3541-f6dd-42a5-b87a-ae73099dc412"
      },
      "execution_count": 30,
      "outputs": [
        {
          "output_type": "stream",
          "name": "stdout",
          "text": [
            "<class 'tuple'>\n",
            "(1, 2, 3, 4, 5)\n"
          ]
        }
      ]
    },
    {
      "cell_type": "code",
      "source": [
        "# Dictionary - Sözlük Örneği -> Öğrencilerin notlarını tutan sözlük\n",
        "notlar = {\n",
        "    \"Ali\" : 85,\n",
        "    \"Veli\" : 90,\n",
        "    \"Ayse\" : 78\n",
        "}\n",
        "\n",
        "notlar[\"Fatma\"] = 92 #Yeni ogrenci ekleme\n",
        "notlar [\"Ali\"] = 88 #Bir ogrencinin notunu guncelleme\n",
        "\n",
        "print(notlar)"
      ],
      "metadata": {
        "colab": {
          "base_uri": "https://localhost:8080/"
        },
        "id": "oQXelmP0-pCj",
        "outputId": "8b9dbbdc-643c-4b92-e34b-c55d008c4c37"
      },
      "execution_count": 31,
      "outputs": [
        {
          "output_type": "stream",
          "name": "stdout",
          "text": [
            "{'Ali': 88, 'Veli': 90, 'Ayse': 78, 'Fatma': 92}\n"
          ]
        }
      ]
    },
    {
      "cell_type": "code",
      "source": [
        "print(notlar.keys()) #dict_keys(['Ali', 'Veli', 'Ayse', 'Fatma'])\n",
        "print(notlar.values()) #dict_values([88, 90, 78, 92])\n",
        "print(notlar.items()) #dict_items([('Ali', 88), ('Veli', 90), ('Ayse', 78), ('Fatma', 92)])"
      ],
      "metadata": {
        "colab": {
          "base_uri": "https://localhost:8080/"
        },
        "id": "b4PWP3mpAlo0",
        "outputId": "ebe830e8-e5df-4cae-fe93-d49b84b0147a"
      },
      "execution_count": 32,
      "outputs": [
        {
          "output_type": "stream",
          "name": "stdout",
          "text": [
            "dict_keys(['Ali', 'Veli', 'Ayse', 'Fatma'])\n",
            "dict_values([88, 90, 78, 92])\n",
            "dict_items([('Ali', 88), ('Veli', 90), ('Ayse', 78), ('Fatma', 92)])\n"
          ]
        }
      ]
    },
    {
      "cell_type": "code",
      "source": [
        "#Set - Kume Ornegi -> Bir yazılım etkinligine katılan kisilerin olusturdugu kumeler\n",
        "kodyazanlar = {\"Ahmet\", \"Mehmet\", \"Ayse\"}\n",
        "kodyazmayanlar = {\"Ayse\", \"Fatma\", \"Veli\"}\n",
        "\n",
        "#Kafasına gore takılan ogrenciler\n",
        "ortak=kodyazanlar.intersection(kodyazmayanlar)\n",
        "print(\"Kafasına gore takılan ogrenciler listesi: \" ,ortak)\n",
        "\n",
        "#Etkinlikte kod calismasi yapmayan ogrencilerin tespiti\n",
        "Kod_yazmayan = kodyazmayanlar.difference(kodyazanlar)\n",
        "print(\"Kod calismasi yapmayan ogrenci listesi: \",Kod_yazmayan)\n",
        "\n",
        "#Yazılım egitiminin ogrenci imza listesi\n",
        "imza_listesi = kodyazanlar.union(kodyazmayanlar)\n",
        "print(\"Etkinlik katılımcıları: \",imza_listesi )"
      ],
      "metadata": {
        "colab": {
          "base_uri": "https://localhost:8080/"
        },
        "id": "XN04uHscBjqt",
        "outputId": "d2338fd5-041a-4653-a5dc-3961a1e0e239"
      },
      "execution_count": 33,
      "outputs": [
        {
          "output_type": "stream",
          "name": "stdout",
          "text": [
            "Kafasına gore takılan ogrenciler listesi:  {'Ayse'}\n",
            "Kod calismasi yapmayan ogrenci listesi:  {'Veli', 'Fatma'}\n",
            "Etkinlik katılımcıları:  {'Mehmet', 'Ayse', 'Veli', 'Ahmet', 'Fatma'}\n"
          ]
        }
      ]
    },
    {
      "cell_type": "code",
      "source": [
        "#Kullanıcıdan deger alarak mutlak deger yapma\n",
        "giris = input(\"Bir sayi girin: \")\n",
        "try:\n",
        "  num=float(giris)\n",
        "  print(f\"Girilen sayi: {num}, tipi: {type(num)}\",abs(num))\n",
        "except ValueError:\n",
        "  print(\"Gecersiz veri girdiniz.\")"
      ],
      "metadata": {
        "colab": {
          "base_uri": "https://localhost:8080/"
        },
        "id": "YFDZ62OwDylt",
        "outputId": "ea544bcc-100d-4ac0-eed4-e326c30ef96c"
      },
      "execution_count": 35,
      "outputs": [
        {
          "output_type": "stream",
          "name": "stdout",
          "text": [
            "Bir sayi girin: 15\n",
            "Girilen sayi: 15.0, tipi: <class 'float'> 15.0\n"
          ]
        }
      ]
    },
    {
      "cell_type": "code",
      "source": [
        "# 0 ile 1 arasında rastgele bir ondalık sayı uretir\n",
        "import random\n",
        "rastgele_float = random.random()\n",
        "print(\"Rastgele Degeri: \",rastgele_float)"
      ],
      "metadata": {
        "colab": {
          "base_uri": "https://localhost:8080/"
        },
        "id": "aXOCK9dHEnXl",
        "outputId": "c5570cbc-5164-4f04-eec5-c1a3039f51aa"
      },
      "execution_count": 41,
      "outputs": [
        {
          "output_type": "stream",
          "name": "stdout",
          "text": [
            "Rastgele Degeri:  0.35148655191381417\n"
          ]
        }
      ]
    },
    {
      "cell_type": "code",
      "source": [
        "#1 ile 10 arasında (her iki sınır dahil) rastgele bir tam sayı uretir\n",
        "import random\n",
        "rastgele_sayi=random.randint(1,10)\n",
        "print(\"Rastgele Deger: \", rastgele_sayi)"
      ],
      "metadata": {
        "colab": {
          "base_uri": "https://localhost:8080/"
        },
        "id": "7qrDdfAoFZ1V",
        "outputId": "7e1b27db-a621-447d-dd04-6630f98b9545"
      },
      "execution_count": 51,
      "outputs": [
        {
          "output_type": "stream",
          "name": "stdout",
          "text": [
            "Rastgele Deger:  6\n"
          ]
        }
      ]
    }
  ]
}