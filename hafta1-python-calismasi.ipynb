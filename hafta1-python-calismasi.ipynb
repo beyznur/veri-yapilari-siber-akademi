{
  "nbformat": 4,
  "nbformat_minor": 0,
  "metadata": {
    "colab": {
      "provenance": []
    },
    "kernelspec": {
      "name": "python3",
      "display_name": "Python 3"
    },
    "language_info": {
      "name": "python"
    }
  },
  "cells": [
    {
      "cell_type": "code",
      "execution_count": null,
      "metadata": {
        "id": "W8F2DpWm2rR_",
        "colab": {
          "base_uri": "https://localhost:8080/"
        },
        "outputId": "dba3d01f-fd22-439d-e595-c3144c447dff"
      },
      "outputs": [
        {
          "output_type": "stream",
          "name": "stdout",
          "text": [
            "Merhaba İGU - İSTKA, Ders 1\n"
          ]
        }
      ],
      "source": [
        "print(\"Merhaba İGU - İSTKA, Ders 1\")"
      ]
    },
    {
      "cell_type": "code",
      "source": [
        "import sys #kutuphane tanımlar\n",
        "print(sys.version)"
      ],
      "metadata": {
        "colab": {
          "base_uri": "https://localhost:8080/"
        },
        "id": "f5sbImbN4v6u",
        "outputId": "f62e44f3-eb18-436f-dac2-08108381afd8"
      },
      "execution_count": null,
      "outputs": [
        {
          "output_type": "stream",
          "name": "stdout",
          "text": [
            "3.10.12 (main, Jul 29 2024, 16:56:48) [GCC 11.4.0]\n"
          ]
        }
      ]
    },
    {
      "cell_type": "code",
      "source": [
        "from google.colab import drive # goole colab - drive baglantısı\n",
        "drive.mount(\"/content/drive\")"
      ],
      "metadata": {
        "colab": {
          "base_uri": "https://localhost:8080/"
        },
        "id": "Q_kwR1167Pur",
        "outputId": "96fef41b-86b1-4ecf-9550-9f0372209719"
      },
      "execution_count": null,
      "outputs": [
        {
          "output_type": "stream",
          "name": "stdout",
          "text": [
            "Mounted at /content/drive\n"
          ]
        }
      ]
    },
    {
      "cell_type": "code",
      "source": [
        "import os\n",
        "os.chdir('/content/drive/My Drive/VERIYAPILARI_ISTKA') # drive icindeki klasore erisim linki isleme alındır\n",
        "\n",
        "!pwd # kodun cıktısını dosya yolu olarak veren kod blogudur."
      ],
      "metadata": {
        "colab": {
          "base_uri": "https://localhost:8080/"
        },
        "id": "EUS6tZRO8OuJ",
        "outputId": "baf9c262-be33-4f2b-a9c3-410ce6c16084"
      },
      "execution_count": null,
      "outputs": [
        {
          "output_type": "stream",
          "name": "stdout",
          "text": [
            "/content/drive/My Drive/VERIYAPILARI_ISTKA\n"
          ]
        }
      ]
    },
    {
      "cell_type": "code",
      "source": [],
      "metadata": {
        "id": "6s4L2zk89ZUn"
      },
      "execution_count": null,
      "outputs": []
    },
    {
      "cell_type": "markdown",
      "source": [
        "Python programlama dilinde print komutu ekrandan kullanıcıya bilgi veren bir koddur.\n",
        "Veri yapıları ve Algoritma dersi ilk kodlama çıktısıdır. İGU İSTKA SİBER AKADEMİ MERKEZİ - 19.08.2024"
      ],
      "metadata": {
        "id": "pWRuE6fR64nT"
      }
    }
  ]
}